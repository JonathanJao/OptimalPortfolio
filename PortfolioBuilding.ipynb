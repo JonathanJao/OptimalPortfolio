{
 "cells": [
  {
   "cell_type": "markdown",
   "metadata": {},
   "source": [
    "Welcome to the world of quantitative finance!\nRay Chen",
    "======\n",
    "Introduction\n",
    "--\n",
    "In this tutorial, we will show you how to build and simulate two portfolios using Python.  Specifically, this tutorial will cover the construction of an equal weighted and inverse volatility portfolio.  Portfolio simulation can cover signal generation, portfolio construction, and backtesting. Here we would like you to focus on building, developing and optimizing strategies and minimize the focus on the simulation/backtesting mechanics.  At the end of this tutorial, you should be able to construct a portfolio, build an equity curve, tabulate a return histogram, and produce a performance analytics table.\n",
    "\n",
    "Minimizing backtesting mechanics\n",
    "--\n",
    "“Backtesting mechanics” refers to calculating each portfolio holding’s contribution and any transactions that occur during the simulation. To maintain focus on the portfolio construction phase, we will use the “bt” package for backtesting mechanics (http://pmorissette.github.io/bt/). We prefer that you follow our template when using the bt package so that we can assist if you encounter any problems.  Ideally, we will create a modular structure so that you can create other portfolios and test them using the bt package\n",
    "\n",
    "Version\n",
    "--\n",
    "We plan to use python27 in Anaconda. Please install [Anaconda](https://www.anaconda.com/distribution/) and the [bt package](http://pmorissette.github.io/bt/install.html).\n",
    "\n",
    "Importing packages\n",
    "--\n",
    "First of all, import all the packages we need. Please spend some time on numpy and pandas. We will use them all the time.\n"
   ]
  },
  {
   "cell_type": "code",
   "execution_count": 64,
   "metadata": {},
   "outputs": [],
   "source": [
    "import numpy as np\n",
    "import pandas as pd \n",
    "import quadprog as qp\n",
    "import bt\n",
    "from bt.core import Algo\n",
    "import warnings\n",
    "warnings.filterwarnings('ignore')"
   ]
  },
  {
   "cell_type": "markdown",
   "metadata": {},
   "source": [
    "Selecting the the universe\n",
    "--\n",
    "\n",
    "The first step in portfolio simulation is selecting the universe of desired investments.  We will need the performance of each investment at the desired frequency, usually daily.  The “bt” package contains a convenient function that will pull pricing data from Yahoo Finance.  For example suppose we want to create a three holding portfolio consisting of very popular ETFs like SPY,EEM,EFA,AGG,IEF,SHY. We would create the following function:\n"
   ]
  },
  {
   "cell_type": "code",
   "execution_count": 65,
   "metadata": {},
   "outputs": [
    {
     "data": {
      "text/html": [
       "<div>\n",
       "<style scoped>\n",
       "    .dataframe tbody tr th:only-of-type {\n",
       "        vertical-align: middle;\n",
       "    }\n",
       "\n",
       "    .dataframe tbody tr th {\n",
       "        vertical-align: top;\n",
       "    }\n",
       "\n",
       "    .dataframe thead th {\n",
       "        text-align: right;\n",
       "    }\n",
       "</style>\n",
       "<table border=\"1\" class=\"dataframe\">\n",
       "  <thead>\n",
       "    <tr style=\"text-align: right;\">\n",
       "      <th></th>\n",
       "      <th>spy</th>\n",
       "      <th>eem</th>\n",
       "      <th>efa</th>\n",
       "      <th>agg</th>\n",
       "      <th>ief</th>\n",
       "      <th>shy</th>\n",
       "    </tr>\n",
       "    <tr>\n",
       "      <th>Date</th>\n",
       "      <th></th>\n",
       "      <th></th>\n",
       "      <th></th>\n",
       "      <th></th>\n",
       "      <th></th>\n",
       "      <th></th>\n",
       "    </tr>\n",
       "  </thead>\n",
       "  <tbody>\n",
       "    <tr>\n",
       "      <th>2010-01-04</th>\n",
       "      <td>94.130867</td>\n",
       "      <td>35.672810</td>\n",
       "      <td>43.409443</td>\n",
       "      <td>80.810036</td>\n",
       "      <td>72.965668</td>\n",
       "      <td>77.352745</td>\n",
       "    </tr>\n",
       "    <tr>\n",
       "      <th>2010-01-05</th>\n",
       "      <td>94.380074</td>\n",
       "      <td>35.931736</td>\n",
       "      <td>43.447697</td>\n",
       "      <td>81.177643</td>\n",
       "      <td>73.286041</td>\n",
       "      <td>77.445839</td>\n",
       "    </tr>\n",
       "    <tr>\n",
       "      <th>2010-01-06</th>\n",
       "      <td>94.446495</td>\n",
       "      <td>36.006908</td>\n",
       "      <td>43.631344</td>\n",
       "      <td>81.130775</td>\n",
       "      <td>72.990295</td>\n",
       "      <td>77.455177</td>\n",
       "    </tr>\n",
       "    <tr>\n",
       "      <th>2010-01-07</th>\n",
       "      <td>94.845207</td>\n",
       "      <td>35.798107</td>\n",
       "      <td>43.463001</td>\n",
       "      <td>81.036865</td>\n",
       "      <td>72.990295</td>\n",
       "      <td>77.436508</td>\n",
       "    </tr>\n",
       "    <tr>\n",
       "      <th>2010-01-08</th>\n",
       "      <td>95.160805</td>\n",
       "      <td>36.082077</td>\n",
       "      <td>43.807339</td>\n",
       "      <td>81.083809</td>\n",
       "      <td>73.080681</td>\n",
       "      <td>77.511009</td>\n",
       "    </tr>\n",
       "    <tr>\n",
       "      <th>2010-01-11</th>\n",
       "      <td>95.293701</td>\n",
       "      <td>36.006908</td>\n",
       "      <td>44.166981</td>\n",
       "      <td>81.021225</td>\n",
       "      <td>73.130005</td>\n",
       "      <td>77.548286</td>\n",
       "    </tr>\n",
       "    <tr>\n",
       "      <th>2010-01-12</th>\n",
       "      <td>94.404961</td>\n",
       "      <td>35.430588</td>\n",
       "      <td>43.646645</td>\n",
       "      <td>81.537506</td>\n",
       "      <td>73.655685</td>\n",
       "      <td>77.613441</td>\n",
       "    </tr>\n",
       "    <tr>\n",
       "      <th>2010-01-13</th>\n",
       "      <td>95.202347</td>\n",
       "      <td>35.539177</td>\n",
       "      <td>44.013939</td>\n",
       "      <td>81.193336</td>\n",
       "      <td>73.302521</td>\n",
       "      <td>77.548286</td>\n",
       "    </tr>\n",
       "    <tr>\n",
       "      <th>2010-01-14</th>\n",
       "      <td>95.459831</td>\n",
       "      <td>35.447304</td>\n",
       "      <td>44.350624</td>\n",
       "      <td>81.404541</td>\n",
       "      <td>73.647507</td>\n",
       "      <td>77.622757</td>\n",
       "    </tr>\n",
       "    <tr>\n",
       "      <th>2010-01-15</th>\n",
       "      <td>94.388382</td>\n",
       "      <td>35.038036</td>\n",
       "      <td>43.654305</td>\n",
       "      <td>81.560928</td>\n",
       "      <td>73.976105</td>\n",
       "      <td>77.687912</td>\n",
       "    </tr>\n",
       "  </tbody>\n",
       "</table>\n",
       "</div>"
      ],
      "text/plain": [
       "                  spy        eem        efa        agg        ief        shy\n",
       "Date                                                                        \n",
       "2010-01-04  94.130867  35.672810  43.409443  80.810036  72.965668  77.352745\n",
       "2010-01-05  94.380074  35.931736  43.447697  81.177643  73.286041  77.445839\n",
       "2010-01-06  94.446495  36.006908  43.631344  81.130775  72.990295  77.455177\n",
       "2010-01-07  94.845207  35.798107  43.463001  81.036865  72.990295  77.436508\n",
       "2010-01-08  95.160805  36.082077  43.807339  81.083809  73.080681  77.511009\n",
       "2010-01-11  95.293701  36.006908  44.166981  81.021225  73.130005  77.548286\n",
       "2010-01-12  94.404961  35.430588  43.646645  81.537506  73.655685  77.613441\n",
       "2010-01-13  95.202347  35.539177  44.013939  81.193336  73.302521  77.548286\n",
       "2010-01-14  95.459831  35.447304  44.350624  81.404541  73.647507  77.622757\n",
       "2010-01-15  94.388382  35.038036  43.654305  81.560928  73.976105  77.687912"
      ]
     },
     "execution_count": 65,
     "metadata": {},
     "output_type": "execute_result"
    }
   ],
   "source": [
    "data = bt.get('SPY,EEM,EFA,AGG,IEF,SHY', start='2010-01-01')\n",
    "data.head(10)"
   ]
  },
  {
   "cell_type": "markdown",
   "metadata": {},
   "source": [
    "Building a portfolios\n",
    "--\n",
    "Next, we will show you to build two different portfolios - Equally Weighted and Inverse Volatility. We will use *Class* to ensure that characteristics or values do not inadvertently change, maintain modular construction, track inheritance, and improve readability. *Class* are part of object-oriented programming. Using *Class* in details are beyond the scope of this tutorial. For more information, please refer [here](https://en.wikipedia.org/wiki/Object-oriented_programming). We create a *Class* to calculate weights for our portfolio. Once completed, we pass our universe and the desired class to the bt package.\n",
    "\n",
    "First we will create a *Class* for the Equally Weighted portfolio.  \n"
   ]
  },
  {
   "cell_type": "code",
   "execution_count": 66,
   "metadata": {},
   "outputs": [],
   "source": [
    "################################################################################\n",
    "# Algo Class for calculating weights\n",
    "################################################################################\n",
    "# Equal Weight\n",
    "class WeighEqually(Algo):\n",
    "\n",
    "    \"\"\"\n",
    "    Sets temp['weights'] by calculating equal weights for all items in\n",
    "    selected.\n",
    "\n",
    "    Equal weight Algo. Sets the 'weights' to 1/n for each item in 'selected'.\n",
    "\n",
    "    Sets:\n",
    "        * weights\n",
    "\n",
    "    Requires:\n",
    "        * selected\n",
    "\n",
    "    \"\"\"\n",
    "\n",
    "    def __init__(self):\n",
    "        # inherit from parent class Algo is a must\n",
    "        super(WeighEqually, self).__init__()\n",
    "\n",
    "    def __call__(self, target):\n",
    "        selected = target.temp['selected']\n",
    "        n = len(selected)\n",
    "\n",
    "        if n == 0:\n",
    "            target.temp['weights'] = {}\n",
    "        else:\n",
    "            w = 1.0 / n\n",
    "            target.temp['weights'] = {x: w for x in selected}\n",
    "\n",
    "        return True"
   ]
  },
  {
   "cell_type": "markdown",
   "metadata": {},
   "source": [
    "Class *WeighEqually* is a child class from Algo class with two methods:\n",
    "1.\tinit: initiates itself and inherits from Algo. \n",
    "2.\tcall: function with input data (target) as a time-indexed data frame from pandas. Call is used to calculate each portfolio holding’s weight.\n",
    "*Init* initiates the object while *call* calculates each holding’s weight.\n",
    "\n",
    "Let's take a close look at the call function. It has two input variables - *self* refers to Class *WeighEqually* and *target* is Class *Strategy* (You will see it later). \"target\" contains raw pricing data, presettings, intermediate info and etc. Whenever the system needs to rebalance portfolio, it will call Class *WeighEqually* to get the weight calculated.\n",
    "\n",
    "Next, we will create a class for the Inverse volatility weighted portfolio in a similar way."
   ]
  },
  {
   "cell_type": "code",
   "execution_count": 67,
   "metadata": {},
   "outputs": [],
   "source": [
    "class WeighInvVol(Algo):\n",
    "\n",
    "    \"\"\"\n",
    "    Sets temp['weights'] based on the inverse volatility Algo.\n",
    "\n",
    "    Sets the target weights based on ffn's calc_inv_vol_weights. This\n",
    "    is a commonly used technique for risk parity portfolios. The least\n",
    "    volatile elements receive the highest weight under this scheme. Weights\n",
    "    are proportional to the inverse of their volatility.\n",
    "\n",
    "    Args:\n",
    "        * lookback (DateOffset): lookback period for estimating volatility\n",
    "\n",
    "    Sets:\n",
    "        * weights\n",
    "\n",
    "    Requires:\n",
    "        * selected\n",
    "\n",
    "    \"\"\"\n",
    "\n",
    "    def __init__(self, lookback=pd.DateOffset(months=3),\n",
    "                 lag=pd.DateOffset(days=0)):\n",
    "        super(WeighInvVol, self).__init__()\n",
    "        self.lookback = lookback\n",
    "        self.lag = lag\n",
    "\n",
    "    def __call__(self, target):\n",
    "        selected = target.temp['selected']\n",
    "\n",
    "        if len(selected) == 0:\n",
    "            target.temp['weights'] = {}\n",
    "            return True\n",
    "\n",
    "        if len(selected) == 1:\n",
    "            target.temp['weights'] = {selected[0]: 1.}\n",
    "            return True\n",
    "\n",
    "        t0 = target.now - self.lag\n",
    "        prc = target.universe[selected].ix[t0 - self.lookback:t0]\n",
    "        tw = bt.ffn.calc_inv_vol_weights(\n",
    "            prc.to_returns().dropna())\n",
    "        target.temp['weights'] = tw.dropna()\n",
    "        return True"
   ]
  },
  {
   "cell_type": "markdown",
   "metadata": {},
   "source": [
    "Compare to Equal Weight that require no prior information, the inversely weighted volatility strategy requires a “lookback” window that is used to calculate each portfolio holding’s volatility. \n",
    "\n",
    "Therefore *WeighInvVol* does the follows:\n",
    "1. Extract the lookback period in the raw pricing data from at most 3 months ago to current (exclude current): prc = target.universe[selected].ix[t0 - self.lookback:t0]\n",
    "2. Calculate returns and drop NAs:  prc.to_returns().dropna()\n",
    "3. Calculate weights: tw = bt.ffn.calc_inv_vol_weights()"
   ]
  },
  {
   "cell_type": "markdown",
   "metadata": {},
   "source": [
    "Running the simulation\n",
    "--\n",
    "At this point, we have pulled our holding’s data and created class for two portfolios. Next, we will use a bt function called “Strategy” to set all the required simulation settings. Strategy requires the following inputs:\n",
    "1.\tPeriodicity: What period does Strategy use? daily, monthly, quarterly, etc\n",
    "2.\tUniverse:  Does the function use all the holdings within the dataset or a subset?\n",
    "3.\tPortfolio class – in this case WeighEqually and WeighInvVol\n",
    "4.\tRebalance: How often does Strategy rebalance the portfolio?\n"
   ]
  },
  {
   "cell_type": "code",
   "execution_count": 68,
   "metadata": {},
   "outputs": [],
   "source": [
    "strategy = bt.Strategy('Equal Weight', \n",
    "                       [bt.algos.RunMonthly(),\n",
    "                        bt.algos.SelectAll(),\n",
    "                        WeighEqually(),\n",
    "                        bt.algos.Rebalance()\n",
    "                      ])\n",
    "\n",
    "strategy2 = bt.Strategy('Inverse Volatility', \n",
    "                        [bt.algos.RunMonthly(),\n",
    "                         bt.algos.SelectAll(),\n",
    "                         WeighInvVol(),                      \n",
    "                         bt.algos.Rebalance()\n",
    "                      ])\n",
    "    \n",
    "backtesting  = bt.Backtest(strategy, data)\n",
    "backtesting2 = bt.Backtest(strategy2, data)"
   ]
  },
  {
   "cell_type": "markdown",
   "metadata": {},
   "source": [
    "Next we will pass each *strategy* to the bt backtest function for simulation."
   ]
  },
  {
   "cell_type": "code",
   "execution_count": 69,
   "metadata": {},
   "outputs": [
    {
     "name": "stdout",
     "output_type": "stream",
     "text": [
      "Equal Weight\n",
      "0% [############################# ] 100% | ETA: 00:00:00Inverse Volatility\n",
      "0% [############################# ] 100% | ETA: 00:00:00"
     ]
    }
   ],
   "source": [
    "result = bt.run(backtesting,backtesting2)"
   ]
  },
  {
   "cell_type": "markdown",
   "metadata": {},
   "source": [
    "Plot the equity curve.  \n",
    "--\n",
    "An equity curve is a graphical representation of the simulation through time.  For convenience, equity curves usually start at 100."
   ]
  },
  {
   "cell_type": "code",
   "execution_count": 70,
   "metadata": {},
   "outputs": [
    {
     "data": {
      "text/plain": [
       "<matplotlib.axes._subplots.AxesSubplot at 0x10021550>"
      ]
     },
     "execution_count": 70,
     "metadata": {},
     "output_type": "execute_result"
    },
    {
     "data": {
      "image/png": "[encoded data removed]",
      "text/plain": [
       "<matplotlib.figure.Figure at 0x102bef70>"
      ]
     },
     "metadata": {},
     "output_type": "display_data"
    }
   ],
   "source": [
    "%matplotlib inline\n",
    "result.plot()"
   ]
  },
  {
   "cell_type": "markdown",
   "metadata": {},
   "source": [
    "The Equal Weight portfolio outperformed Inverse Volatility by absolute return. However Inverse Volatility portfolio experiened less risks and volatility.\n",
    "\n",
    "Create a return histogram\n",
    "--\n",
    "Next step is a return histogram.  This is useful to visualize the standard deviation, skew, and kurtosis of the simulated return stream.  \n"
   ]
  },
  {
   "cell_type": "code",
   "execution_count": 71,
   "metadata": {},
   "outputs": [
    {
     "data": {
      "text/plain": [
       "<matplotlib.axes._subplots.AxesSubplot at 0x102d1170>"
      ]
     },
     "execution_count": 71,
     "metadata": {},
     "output_type": "execute_result"
    },
    {
     "data": {
      "text/plain": [
       "<matplotlib.axes._subplots.AxesSubplot at 0x10634d10>"
      ]
     },
     "execution_count": 71,
     "metadata": {},
     "output_type": "execute_result"
    },
    {
     "data": {
      "image/png": "[encoded data removed]",
      "text/plain": [
       "<matplotlib.figure.Figure at 0x102ad5d0>"
      ]
     },
     "metadata": {},
     "output_type": "display_data"
    },
    {
     "data": {
      "image/png": "[encoded data removed]",
      "text/plain": [
       "<matplotlib.figure.Figure at 0x106293b0>"
      ]
     },
     "metadata": {},
     "output_type": "display_data"
    }
   ],
   "source": [
    "result[0].plot_histogram()\n",
    "result[1].plot_histogram()"
   ]
  },
  {
   "cell_type": "markdown",
   "metadata": {},
   "source": [
    "Performance statistics\n",
    "--\n",
    "Finally, we want to review the performance statistics of each simulation. Performance statistics provide multiple ways to compare portfolios by returns, risk or both.  \n"
   ]
  },
  {
   "cell_type": "code",
   "execution_count": 72,
   "metadata": {},
   "outputs": [
    {
     "name": "stdout",
     "output_type": "stream",
     "text": [
      "Stat                 Equal Weight    Inverse Volatility\n",
      "-------------------  --------------  --------------------\n",
      "Start                2010-01-03      2010-01-03\n",
      "End                  2019-03-18      2019-03-18\n",
      "Risk-free rate       0.00%           0.00%\n",
      "\n",
      "Total Return         56.42%          22.57%\n",
      "Daily Sharpe         0.64            1.24\n",
      "Daily Sortino        1.03            2.09\n",
      "CAGR                 4.98%           2.24%\n",
      "Max Drawdown         -11.33%         -2.62%\n",
      "Calmar Ratio         0.44            0.85\n",
      "\n",
      "MTD                  1.29%           0.63%\n",
      "3m                   6.42%           2.19%\n",
      "6m                   2.25%           2.51%\n",
      "YTD                  6.46%           1.76%\n",
      "1Y                   0.56%           2.64%\n",
      "3Y (ann.)            5.97%           2.55%\n",
      "5Y (ann.)            4.14%           2.04%\n",
      "10Y (ann.)           4.98%           2.24%\n",
      "Since Incep. (ann.)  4.98%           2.24%\n",
      "\n",
      "Daily Sharpe         0.64            1.24\n",
      "Daily Sortino        1.03            2.09\n",
      "Daily Mean (ann.)    5.20%           2.23%\n",
      "Daily Vol (ann.)     8.11%           1.80%\n",
      "Daily Skew           -0.25           -0.05\n",
      "Daily Kurt           3.55            2.71\n",
      "Best Day             2.86%           0.72%\n",
      "Worst Day            -3.26%          -0.53%\n",
      "\n",
      "Monthly Sharpe       0.79            1.33\n",
      "Monthly Sortino      1.48            2.63\n",
      "Monthly Mean (ann.)  5.48%           2.24%\n",
      "Monthly Vol (ann.)   6.91%           1.68%\n",
      "Monthly Skew         -0.07           -0.39\n",
      "Monthly Kurt         0.85            0.23\n",
      "Best Month           6.16%           1.31%\n",
      "Worst Month          -5.46%          -1.24%\n",
      "\n",
      "Yearly Sharpe        0.69            1.24\n",
      "Yearly Sortino       2.49            28.19\n",
      "Yearly Mean          4.26%           1.82%\n",
      "Yearly Vol           6.14%           1.47%\n",
      "Yearly Skew          0.11            1.02\n",
      "Yearly Kurt          -0.49           1.83\n",
      "Best Year            14.39%          4.89%\n",
      "Worst Year           -5.03%          -0.19%\n",
      "\n",
      "Avg. Drawdown        -1.17%          -0.24%\n",
      "Avg. Drawdown Days   27.72           18.63\n",
      "Avg. Up Month        1.67%           0.43%\n",
      "Avg. Down Month      -1.37%          -0.42%\n",
      "Win Year %           66.67%          88.89%\n",
      "Win 12m %            81.00%          93.00%\n"
     ]
    }
   ],
   "source": [
    "result.display()"
   ]
  },
  {
   "cell_type": "markdown",
   "metadata": {},
   "source": [
    "Summary\n",
    "--\n",
    "At this point, you should be able to source values for your selected universe, create two portfolio construction techniques, simulate each portfolio and analyze the results.  \n"
   ]
  }
 ],
 "metadata": {
  "kernelspec": {
   "display_name": "Python 2",
   "language": "python",
   "name": "python2"
  },
  "language_info": {
   "codemirror_mode": {
    "name": "ipython",
    "version": 2
   },
   "file_extension": ".py",
   "mimetype": "text/x-python",
   "name": "python",
   "nbconvert_exporter": "python",
   "pygments_lexer": "ipython2",
   "version": "2.7.14"
  }
 },
 "nbformat": 4,
 "nbformat_minor": 2
}
